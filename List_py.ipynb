{
  "nbformat": 4,
  "nbformat_minor": 0,
  "metadata": {
    "colab": {
      "name": "List_py.ipynb",
      "provenance": [],
      "collapsed_sections": [],
      "authorship_tag": "ABX9TyPoER0wFPSNMFeNLOvFca84",
      "include_colab_link": true
    },
    "kernelspec": {
      "name": "python3",
      "display_name": "Python 3"
    },
    "language_info": {
      "name": "python"
    }
  },
  "cells": [
    {
      "cell_type": "markdown",
      "metadata": {
        "id": "view-in-github",
        "colab_type": "text"
      },
      "source": [
        "<a href=\"https://colab.research.google.com/github/ghazalaaa/NASA-Space-apps-challenges/blob/main/List_py.ipynb\" target=\"_parent\"><img src=\"https://colab.research.google.com/assets/colab-badge.svg\" alt=\"Open In Colab\"/></a>"
      ]
    },
    {
      "cell_type": "markdown",
      "source": [
        "# Declare one list by using one integer , one float and two strings. After adding display 2nd element and check the data type of the list. "
      ],
      "metadata": {
        "id": "ZtsSJpUgYJCO"
      }
    },
    {
      "cell_type": "code",
      "source": [
        ""
      ],
      "metadata": {
        "id": "62qMxNkTxCs1"
      },
      "execution_count": null,
      "outputs": []
    },
    {
      "cell_type": "markdown",
      "source": [
        "#Create one list with names of your five friends. Return the position of your best friend in the list."
      ],
      "metadata": {
        "id": "5KKrcEQbZfe3"
      }
    },
    {
      "cell_type": "code",
      "source": [
        ""
      ],
      "metadata": {
        "id": "FLF3EwjwaA-2"
      },
      "execution_count": null,
      "outputs": []
    },
    {
      "cell_type": "markdown",
      "source": [
        "# Give an example to show the difference between append() and extend() and insert !"
      ],
      "metadata": {
        "id": "hji78XKgaBjV"
      }
    },
    {
      "cell_type": "code",
      "source": [
        ""
      ],
      "metadata": {
        "id": "X5AsTm52bnUj"
      },
      "execution_count": null,
      "outputs": []
    },
    {
      "cell_type": "markdown",
      "source": [
        "# Access value 20 from the tuple\n",
        "\n",
        "The given tuple is a nested tuple. write a Python program to print the value 20. \n",
        "tuple = (\"Orange\", [10, 20, 30], (5, 15, 25))"
      ],
      "metadata": {
        "id": "iDpsnPsdnvwH"
      }
    },
    {
      "cell_type": "code",
      "source": [
        ""
      ],
      "metadata": {
        "id": "UfTBz5r5oM3U"
      },
      "execution_count": null,
      "outputs": []
    }
  ]
}