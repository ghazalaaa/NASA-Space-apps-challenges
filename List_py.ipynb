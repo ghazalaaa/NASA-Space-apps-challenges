{
  "nbformat": 4,
  "nbformat_minor": 0,
  "metadata": {
    "colab": {
      "name": "List_py.ipynb",
      "provenance": [],
      "authorship_tag": "ABX9TyM10vcyZwciguVX30jRHxhd",
      "include_colab_link": true
    },
    "kernelspec": {
      "name": "python3",
      "display_name": "Python 3"
    },
    "language_info": {
      "name": "python"
    }
  },
  "cells": [
    {
      "cell_type": "markdown",
      "metadata": {
        "id": "view-in-github",
        "colab_type": "text"
      },
      "source": [
        "<a href=\"https://colab.research.google.com/github/ghazalaaa/NASA-Space-apps-challenges/blob/main/List_py.ipynb\" target=\"_parent\"><img src=\"https://colab.research.google.com/assets/colab-badge.svg\" alt=\"Open In Colab\"/></a>"
      ]
    },
    {
      "cell_type": "markdown",
      "source": [
        "# Declare one list by using one integer , one float and two strings. After adding display 2nd element and check the data type of the list. "
      ],
      "metadata": {
        "id": "ZtsSJpUgYJCO"
      }
    },
    {
      "cell_type": "code",
      "source": [
        ""
      ],
      "metadata": {
        "colab": {
          "base_uri": "https://localhost:8080/"
        },
        "id": "n7DECSQNYnLx",
        "outputId": "f78106bc-da07-46a3-9bdc-f147dbecd84a"
      },
      "execution_count": 1,
      "outputs": [
        {
          "output_type": "stream",
          "name": "stdout",
          "text": [
            "hello\n"
          ]
        }
      ]
    },
    {
      "cell_type": "markdown",
      "source": [
        "#Create one list with names of your five friends. Return the position of your best friend in the list."
      ],
      "metadata": {
        "id": "5KKrcEQbZfe3"
      }
    },
    {
      "cell_type": "code",
      "source": [
        ""
      ],
      "metadata": {
        "id": "FLF3EwjwaA-2"
      },
      "execution_count": null,
      "outputs": []
    },
    {
      "cell_type": "markdown",
      "source": [
        "# Give an example to show the difference between append() and extend() !"
      ],
      "metadata": {
        "id": "hji78XKgaBjV"
      }
    },
    {
      "cell_type": "code",
      "source": [
        ""
      ],
      "metadata": {
        "id": "X5AsTm52bnUj"
      },
      "execution_count": null,
      "outputs": []
    }
  ]
}