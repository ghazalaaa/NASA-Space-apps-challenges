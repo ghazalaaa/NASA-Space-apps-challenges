{
  "nbformat": 4,
  "nbformat_minor": 0,
  "metadata": {
    "colab": {
      "name": "Session 2.ipynb",
      "provenance": [],
      "collapsed_sections": [],
      "authorship_tag": "ABX9TyMCuuud14a9QRCXDqFGpFUQ",
      "include_colab_link": true
    },
    "kernelspec": {
      "name": "python3",
      "display_name": "Python 3"
    },
    "language_info": {
      "name": "python"
    }
  },
  "cells": [
    {
      "cell_type": "markdown",
      "metadata": {
        "id": "view-in-github",
        "colab_type": "text"
      },
      "source": [
        "<a href=\"https://colab.research.google.com/github/ghazalaaa/NASA-Space-apps-challenges/blob/main/Session_2.ipynb\" target=\"_parent\"><img src=\"https://colab.research.google.com/assets/colab-badge.svg\" alt=\"Open In Colab\"/></a>"
      ]
    },
    {
      "cell_type": "markdown",
      "source": [
        "#To create a diamond pattern in Python using a for loop, use this simple piece of code:\n",
        "hint: by using range \n"
      ],
      "metadata": {
        "id": "ym1IUlmRrZwV"
      }
    },
    {
      "cell_type": "code",
      "source": [
        ""
      ],
      "metadata": {
        "id": "qx0JRKmr4piN"
      },
      "execution_count": null,
      "outputs": []
    },
    {
      "cell_type": "markdown",
      "source": [
        ""
      ],
      "metadata": {
        "id": "xLkqwMvF4qIr"
      }
    },
    {
      "cell_type": "markdown",
      "source": [
        "#Diamond with asterisks using python while loops \n"
      ],
      "metadata": {
        "id": "kiejgzdv5gOf"
      }
    },
    {
      "cell_type": "code",
      "source": [
        ""
      ],
      "metadata": {
        "id": "KVJ3gkJx5nPt"
      },
      "execution_count": null,
      "outputs": []
    },
    {
      "cell_type": "markdown",
      "source": [
        "#Python program to sort dictionary by values (Ascending/ Descending).\n",
        "Hint \n",
        "Given\n",
        "d = {‘key 1’: 2, ‘key 2’: 3, ‘key 3’: 4}\n",
        "\n"
      ],
      "metadata": {
        "id": "obnBy1O17DdZ"
      }
    },
    {
      "cell_type": "code",
      "source": [
        ""
      ],
      "metadata": {
        "id": "KUptNlfJ7K74"
      },
      "execution_count": null,
      "outputs": []
    },
    {
      "cell_type": "markdown",
      "source": [
        "#Write a program to check if a dictionary is empty or not.\n",
        "Hint \n",
        "Given dict2 = {}"
      ],
      "metadata": {
        "id": "It8qYWzK7XYW"
      }
    },
    {
      "cell_type": "code",
      "source": [
        ""
      ],
      "metadata": {
        "id": "Dsc9VXur7etf"
      },
      "execution_count": null,
      "outputs": []
    }
  ]
}